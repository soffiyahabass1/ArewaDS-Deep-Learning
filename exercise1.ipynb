{
  "nbformat": 4,
  "nbformat_minor": 0,
  "metadata": {
    "colab": {
      "provenance": [],
      "gpuType": "T4",
      "authorship_tag": "ABX9TyP1WjtxK8i36tVIaJhjdwIF",
      "include_colab_link": true
    },
    "kernelspec": {
      "name": "python3",
      "display_name": "Python 3"
    },
    "language_info": {
      "name": "python"
    },
    "accelerator": "GPU"
  },
  "cells": [
    {
      "cell_type": "markdown",
      "metadata": {
        "id": "view-in-github",
        "colab_type": "text"
      },
      "source": [
        "<a href=\"https://colab.research.google.com/github/soffiyahabass1/ArewaDS-Deep-Learning/blob/main/exercise1.ipynb\" target=\"_parent\"><img src=\"https://colab.research.google.com/assets/colab-badge.svg\" alt=\"Open In Colab\"/></a>"
      ]
    },
    {
      "cell_type": "markdown",
      "source": [
        "Arewa Data Science Academy\n",
        "Deep Learning Cohort1.0\n",
        "Name: Taiwo Abass\n",
        "Email: soffiyahabass1@gmail.com\n",
        "Title: Week 1 Solution"
      ],
      "metadata": {
        "id": "pvl_ReZWXNy-"
      }
    },
    {
      "cell_type": "code",
      "execution_count": 2,
      "metadata": {
        "id": "XwUl9FxUSxRT"
      },
      "outputs": [],
      "source": [
        "import torch\n",
        "\n",
        "random = torch.rand(size=(7,7))"
      ]
    },
    {
      "cell_type": "code",
      "source": [
        "random"
      ],
      "metadata": {
        "colab": {
          "base_uri": "https://localhost:8080/"
        },
        "id": "lzxLOhs6TM9S",
        "outputId": "01061efa-99c1-4c36-9adb-3101adda8054"
      },
      "execution_count": 3,
      "outputs": [
        {
          "output_type": "execute_result",
          "data": {
            "text/plain": [
              "tensor([[0.7970, 0.1975, 0.9963, 0.8216, 0.3084, 0.2950, 0.2279],\n",
              "        [0.8444, 0.7306, 0.1231, 0.6698, 0.9024, 0.5724, 0.4370],\n",
              "        [0.1630, 0.2877, 0.1329, 0.5197, 0.3374, 0.5243, 0.0397],\n",
              "        [0.8566, 0.1718, 0.6446, 0.8262, 0.7875, 0.9724, 0.6827],\n",
              "        [0.4570, 0.5979, 0.6330, 0.4561, 0.9856, 0.8073, 0.6096],\n",
              "        [0.6846, 0.0139, 0.8939, 0.7765, 0.2269, 0.2931, 0.4931],\n",
              "        [0.5119, 0.5661, 0.7177, 0.7954, 0.8823, 0.7052, 0.7737]])"
            ]
          },
          "metadata": {},
          "execution_count": 3
        }
      ]
    },
    {
      "cell_type": "code",
      "source": [
        "random2 = torch.rand(size=(1,7))\n",
        "random2"
      ],
      "metadata": {
        "colab": {
          "base_uri": "https://localhost:8080/"
        },
        "id": "AO0Gj7_QTWV4",
        "outputId": "2bfcb2d4-4296-4f15-c3d7-4368200e98ab"
      },
      "execution_count": 4,
      "outputs": [
        {
          "output_type": "execute_result",
          "data": {
            "text/plain": [
              "tensor([[0.5937, 0.4289, 0.4180, 0.6430, 0.4694, 0.6900, 0.2704]])"
            ]
          },
          "metadata": {},
          "execution_count": 4
        }
      ]
    },
    {
      "cell_type": "code",
      "source": [
        "mul = torch.matmul(random, random2.T)"
      ],
      "metadata": {
        "id": "KK0X5TyoTgDv"
      },
      "execution_count": 5,
      "outputs": []
    },
    {
      "cell_type": "code",
      "source": [
        "mul"
      ],
      "metadata": {
        "colab": {
          "base_uri": "https://localhost:8080/"
        },
        "id": "R4fh6uvBTjeM",
        "outputId": "b7ff34d6-e71d-4ced-9413-030731623385"
      },
      "execution_count": 6,
      "outputs": [
        {
          "output_type": "execute_result",
          "data": {
            "text/plain": [
              "tensor([[1.9125],\n",
              "        [2.2335],\n",
              "        [1.1408],\n",
              "        [2.6082],\n",
              "        [2.2702],\n",
              "        [1.7274],\n",
              "        [2.4681]])"
            ]
          },
          "metadata": {},
          "execution_count": 6
        }
      ]
    },
    {
      "cell_type": "code",
      "source": [
        "torch.manual_seed=(0)\n",
        "\n",
        "random = torch.rand(size=(7,7))\n",
        "random2 = torch.rand(size=(1,7))\n",
        "\n",
        "mul = torch.matmul(random, random2.T)\n",
        "mul"
      ],
      "metadata": {
        "colab": {
          "base_uri": "https://localhost:8080/"
        },
        "id": "n3WAQvlzTkpZ",
        "outputId": "88ea00b2-02e9-4c91-f768-c5181afdb698"
      },
      "execution_count": 7,
      "outputs": [
        {
          "output_type": "execute_result",
          "data": {
            "text/plain": [
              "tensor([[1.4862],\n",
              "        [1.1178],\n",
              "        [1.9946],\n",
              "        [2.2560],\n",
              "        [1.6444],\n",
              "        [2.1633],\n",
              "        [1.4229]])"
            ]
          },
          "metadata": {},
          "execution_count": 7
        }
      ]
    },
    {
      "cell_type": "code",
      "source": [
        "torch.manual_seed=(0)\n",
        "tensor1 = torch.rand(size=(2,3))\n",
        "tensor2 = torch.rand(size=(3,2))"
      ],
      "metadata": {
        "id": "Q8hXmH1xUNHu"
      },
      "execution_count": 8,
      "outputs": []
    },
    {
      "cell_type": "code",
      "source": [
        "\n",
        "device = \"mps\" if torch.backends.mps.is_available() else \"cpu\"\n",
        "device"
      ],
      "metadata": {
        "colab": {
          "base_uri": "https://localhost:8080/",
          "height": 35
        },
        "id": "LjcsUtyjVMXR",
        "outputId": "31a3ebd9-7f6b-41cc-b586-2e5e6e6ce1e0"
      },
      "execution_count": 9,
      "outputs": [
        {
          "output_type": "execute_result",
          "data": {
            "text/plain": [
              "'cpu'"
            ],
            "application/vnd.google.colaboratory.intrinsic+json": {
              "type": "string"
            }
          },
          "metadata": {},
          "execution_count": 9
        }
      ]
    },
    {
      "cell_type": "code",
      "source": [
        "tensor_on_gpu = tensor1.to(device)\n",
        "tensor_on_gpu = tensor2.to(device)\n",
        "tensor_on_gpu"
      ],
      "metadata": {
        "colab": {
          "base_uri": "https://localhost:8080/"
        },
        "id": "NfRotY8dVYYc",
        "outputId": "119994d9-9372-482e-e641-745fc97fa9b1"
      },
      "execution_count": 10,
      "outputs": [
        {
          "output_type": "execute_result",
          "data": {
            "text/plain": [
              "tensor([[0.8512, 0.3358],\n",
              "        [0.8548, 0.0855],\n",
              "        [0.9744, 0.1277]])"
            ]
          },
          "metadata": {},
          "execution_count": 10
        }
      ]
    },
    {
      "cell_type": "code",
      "source": [
        "torch.manual_seed=(42)\n",
        "\n",
        "matrix = torch.mm(tensor1, tensor2)\n",
        "matrix"
      ],
      "metadata": {
        "colab": {
          "base_uri": "https://localhost:8080/"
        },
        "id": "LIbe8R_UVqCW",
        "outputId": "37e140c2-4441-44d9-b2d6-913e902cbd9d"
      },
      "execution_count": 11,
      "outputs": [
        {
          "output_type": "execute_result",
          "data": {
            "text/plain": [
              "tensor([[1.4887, 0.4053],\n",
              "        [0.6717, 0.1946]])"
            ]
          },
          "metadata": {},
          "execution_count": 11
        }
      ]
    },
    {
      "cell_type": "code",
      "source": [
        " max = torch.max(matrix)\n",
        " max"
      ],
      "metadata": {
        "colab": {
          "base_uri": "https://localhost:8080/"
        },
        "id": "0LmTWi57WUYF",
        "outputId": "f10c99a9-7c52-42b3-e2e3-99ab7af1eeb0"
      },
      "execution_count": 12,
      "outputs": [
        {
          "output_type": "execute_result",
          "data": {
            "text/plain": [
              "tensor(1.4887)"
            ]
          },
          "metadata": {},
          "execution_count": 12
        }
      ]
    },
    {
      "cell_type": "code",
      "source": [
        "min = torch.min(matrix)\n",
        "min"
      ],
      "metadata": {
        "colab": {
          "base_uri": "https://localhost:8080/"
        },
        "id": "96Z30J98-NLk",
        "outputId": "8d4cf9d4-3132-4678-ecbc-cca1885e6d3f"
      },
      "execution_count": 13,
      "outputs": [
        {
          "output_type": "execute_result",
          "data": {
            "text/plain": [
              "tensor(0.1946)"
            ]
          },
          "metadata": {},
          "execution_count": 13
        }
      ]
    },
    {
      "cell_type": "code",
      "source": [
        "max_index = torch.argmax(matrix)\n",
        "max_index"
      ],
      "metadata": {
        "colab": {
          "base_uri": "https://localhost:8080/"
        },
        "id": "nrDnxmxw-Rza",
        "outputId": "0995cb3c-ee24-47ec-8d30-b04b95af5b9e"
      },
      "execution_count": 14,
      "outputs": [
        {
          "output_type": "execute_result",
          "data": {
            "text/plain": [
              "tensor(0)"
            ]
          },
          "metadata": {},
          "execution_count": 14
        }
      ]
    },
    {
      "cell_type": "code",
      "source": [
        "min_index = torch.argmin(matrix)\n",
        "min_index"
      ],
      "metadata": {
        "colab": {
          "base_uri": "https://localhost:8080/"
        },
        "id": "qtSH-6Kf-cFj",
        "outputId": "0280b1c9-6976-439e-bc8e-75ccb5d8d9fc"
      },
      "execution_count": 15,
      "outputs": [
        {
          "output_type": "execute_result",
          "data": {
            "text/plain": [
              "tensor(3)"
            ]
          },
          "metadata": {},
          "execution_count": 15
        }
      ]
    },
    {
      "cell_type": "code",
      "source": [
        "random_tensor = torch.rand(size=(1,1,1,10))\n",
        "random_tensor"
      ],
      "metadata": {
        "colab": {
          "base_uri": "https://localhost:8080/"
        },
        "id": "7zESkTIv-lRN",
        "outputId": "524d39c7-ebc7-4329-8164-7b06ce8bb90b"
      },
      "execution_count": 16,
      "outputs": [
        {
          "output_type": "execute_result",
          "data": {
            "text/plain": [
              "tensor([[[[0.5799, 0.8004, 0.7343, 0.9981, 0.0411, 0.3340, 0.5768, 0.7148,\n",
              "           0.0752, 0.1374]]]])"
            ]
          },
          "metadata": {},
          "execution_count": 16
        }
      ]
    },
    {
      "cell_type": "code",
      "source": [
        "random_tensor.shape"
      ],
      "metadata": {
        "id": "WKA2mg1MAxG8",
        "colab": {
          "base_uri": "https://localhost:8080/"
        },
        "outputId": "29a94815-2f6b-473a-f7f5-c8569064766f"
      },
      "execution_count": 21,
      "outputs": [
        {
          "output_type": "execute_result",
          "data": {
            "text/plain": [
              "torch.Size([1, 1, 1, 10])"
            ]
          },
          "metadata": {},
          "execution_count": 21
        }
      ]
    },
    {
      "cell_type": "code",
      "source": [
        "new= random_tensor[0,0,0,:]"
      ],
      "metadata": {
        "id": "PLjgry6bHHQx"
      },
      "execution_count": 23,
      "outputs": []
    },
    {
      "cell_type": "code",
      "source": [
        "new.shape"
      ],
      "metadata": {
        "colab": {
          "base_uri": "https://localhost:8080/"
        },
        "id": "7Je423cpHnn8",
        "outputId": "653ce8b8-763a-4189-bef4-e39890a9ec84"
      },
      "execution_count": 25,
      "outputs": [
        {
          "output_type": "execute_result",
          "data": {
            "text/plain": [
              "torch.Size([10])"
            ]
          },
          "metadata": {},
          "execution_count": 25
        }
      ]
    },
    {
      "cell_type": "code",
      "source": [
        "torch.manual_seed=(7)\n",
        "first = random_tensor[:,0,0,0]\n",
        "\n",
        "\n",
        "first,first.shape"
      ],
      "metadata": {
        "colab": {
          "base_uri": "https://localhost:8080/"
        },
        "id": "_YxV7l9AHt7O",
        "outputId": "a158f09a-762b-4b6e-d0bc-64625ed8e5e3"
      },
      "execution_count": 29,
      "outputs": [
        {
          "output_type": "execute_result",
          "data": {
            "text/plain": [
              "(tensor([0.5799]), torch.Size([1]))"
            ]
          },
          "metadata": {},
          "execution_count": 29
        }
      ]
    },
    {
      "cell_type": "code",
      "source": [
        "second = random_tensor[0,0,0,:]\n",
        "second,second.shape"
      ],
      "metadata": {
        "colab": {
          "base_uri": "https://localhost:8080/"
        },
        "id": "Jn-jhtGdJIQ6",
        "outputId": "5abdee62-63c4-4e1f-cfac-f5a6ffbad87b"
      },
      "execution_count": 39,
      "outputs": [
        {
          "output_type": "execute_result",
          "data": {
            "text/plain": [
              "(tensor([0.5799, 0.8004, 0.7343, 0.9981, 0.0411, 0.3340, 0.5768, 0.7148, 0.0752,\n",
              "         0.1374]),\n",
              " torch.Size([10]))"
            ]
          },
          "metadata": {},
          "execution_count": 39
        }
      ]
    },
    {
      "cell_type": "code",
      "source": [],
      "metadata": {
        "id": "hgkf2TNBJuPo"
      },
      "execution_count": null,
      "outputs": []
    }
  ]
}